{
 "cells": [
  {
   "cell_type": "markdown",
   "metadata": {},
   "source": [
    "# Textual data cleaning and preProcessing "
   ]
  },
  {
   "cell_type": "markdown",
   "metadata": {},
   "source": [
    "we must clean and pre process our data before fitting it to model ... must for NLP(Natural Language Processing) or Data science.\n",
    "so we will do with out favourate language PYTHON. "
   ]
  },
  {
   "cell_type": "markdown",
   "metadata": {},
   "source": [
    "in this we will learn \n",
    "Tokenization\n"
   ]
  },
  {
   "cell_type": "markdown",
   "metadata": {},
   "source": [
    "we will use  Natural Language Tool Kit (nltk), so lets install and import it in out program and most important download"
   ]
  },
  {
   "cell_type": "markdown",
   "metadata": {},
   "source": [
    "#pip install nltk"
   ]
  },
  {
   "cell_type": "code",
   "execution_count": 1,
   "metadata": {},
   "outputs": [
    {
     "name": "stderr",
     "output_type": "stream",
     "text": [
      "[nltk_data] Downloading package punkt to\n",
      "[nltk_data]     C:\\Users\\sam\\AppData\\Roaming\\nltk_data...\n",
      "[nltk_data]   Package punkt is already up-to-date!\n"
     ]
    },
    {
     "data": {
      "text/plain": [
       "True"
      ]
     },
     "execution_count": 1,
     "metadata": {},
     "output_type": "execute_result"
    }
   ],
   "source": [
    "import nltk\n",
    "nltk.download('punkt')"
   ]
  },
  {
   "cell_type": "markdown",
   "metadata": {},
   "source": [
    "# step1-Tokenization"
   ]
  },
  {
   "cell_type": "markdown",
   "metadata": {},
   "source": [
    "1. For tokenization, nltk has a method word_tokenize(). \n",
    "It will break down the raw text and return as a list.\n",
    "You can also check the difference of future cleaning using the size of the token list.\n",
    "\n",
    "The first thing we must do to our data is to tokenize it. That is, break up paragraphs into sentences (sentence tokenization) or break up sentences into single words (word tokenization). \n",
    "\n",
    "For sentence tokenization, use the sent_tokenize method. Most tweets are only one sentence long, so there may not be much of a difference in the tokenization here.\n",
    "  "
   ]
  },
  {
   "cell_type": "markdown",
   "metadata": {},
   "source": [
    "lets try it with some text"
   ]
  },
  {
   "cell_type": "code",
   "execution_count": 2,
   "metadata": {},
   "outputs": [],
   "source": [
    "raw_text='''Lets do Tokenization . DEveloping . keeping. Lets @ Atleast TRY... You wanna try .. please. keep. trying. it\n",
    "<html> <h1> hello its me, and i am an intern at THATHASCIENCE </h1> </html> 😀 😃 😄 😁 😆 😅 😂 🤣   '''"
   ]
  },
  {
   "cell_type": "code",
   "execution_count": 3,
   "metadata": {},
   "outputs": [],
   "source": [
    "token_list = nltk.word_tokenize(raw_text) # making a var or pointer"
   ]
  },
  {
   "cell_type": "markdown",
   "metadata": {},
   "source": [
    "converted to list"
   ]
  },
  {
   "cell_type": "code",
   "execution_count": 4,
   "metadata": {},
   "outputs": [
    {
     "data": {
      "text/plain": [
       "['Lets',\n",
       " 'do',\n",
       " 'Tokenization',\n",
       " '.',\n",
       " 'DEveloping',\n",
       " '.',\n",
       " 'keeping',\n",
       " '.',\n",
       " 'Lets',\n",
       " '@',\n",
       " 'Atleast',\n",
       " 'TRY',\n",
       " '...',\n",
       " 'You',\n",
       " 'wan',\n",
       " 'na',\n",
       " 'try',\n",
       " '..',\n",
       " 'please',\n",
       " '.',\n",
       " 'keep',\n",
       " '.',\n",
       " 'trying',\n",
       " '.',\n",
       " 'it',\n",
       " '<',\n",
       " 'html',\n",
       " '>',\n",
       " '<',\n",
       " 'h1',\n",
       " '>',\n",
       " 'hello',\n",
       " 'its',\n",
       " 'me',\n",
       " ',',\n",
       " 'and',\n",
       " 'i',\n",
       " 'am',\n",
       " 'an',\n",
       " 'intern',\n",
       " 'at',\n",
       " 'THATHASCIENCE',\n",
       " '<',\n",
       " '/h1',\n",
       " '>',\n",
       " '<',\n",
       " '/html',\n",
       " '>',\n",
       " '😀',\n",
       " '😃',\n",
       " '😄',\n",
       " '😁',\n",
       " '😆',\n",
       " '😅',\n",
       " '😂',\n",
       " '🤣']"
      ]
     },
     "execution_count": 4,
     "metadata": {},
     "output_type": "execute_result"
    }
   ],
   "source": [
    "token_list"
   ]
  },
  {
   "cell_type": "code",
   "execution_count": 5,
   "metadata": {},
   "outputs": [
    {
     "data": {
      "text/plain": [
       "['Lets', 'do', 'Tokenization', '.', 'DEveloping']"
      ]
     },
     "execution_count": 5,
     "metadata": {},
     "output_type": "execute_result"
    }
   ],
   "source": [
    "token_list[0:5]"
   ]
  },
  {
   "cell_type": "markdown",
   "metadata": {},
   "source": [
    "lets see total amount of tokens"
   ]
  },
  {
   "cell_type": "code",
   "execution_count": 6,
   "metadata": {},
   "outputs": [
    {
     "name": "stdout",
     "output_type": "stream",
     "text": [
      "Total tokens :  56\n"
     ]
    }
   ],
   "source": [
    "print(\"Total tokens : \", len(token_list))"
   ]
  },
  {
   "cell_type": "markdown",
   "metadata": {},
   "source": [
    "#now we can lower case all upper case words"
   ]
  },
  {
   "cell_type": "markdown",
   "metadata": {},
   "source": [
    "# step-2 all upper case are converted to lower case"
   ]
  },
  {
   "cell_type": "code",
   "execution_count": 7,
   "metadata": {},
   "outputs": [],
   "source": [
    "token_list2=[]\n",
    "for word in token_list:\n",
    "    token_list2.append(word.lower())\n"
   ]
  },
  {
   "cell_type": "code",
   "execution_count": 8,
   "metadata": {},
   "outputs": [
    {
     "data": {
      "text/plain": [
       "['lets',\n",
       " 'do',\n",
       " 'tokenization',\n",
       " '.',\n",
       " 'developing',\n",
       " '.',\n",
       " 'keeping',\n",
       " '.',\n",
       " 'lets',\n",
       " '@',\n",
       " 'atleast',\n",
       " 'try',\n",
       " '...',\n",
       " 'you',\n",
       " 'wan',\n",
       " 'na',\n",
       " 'try',\n",
       " '..',\n",
       " 'please',\n",
       " '.',\n",
       " 'keep',\n",
       " '.',\n",
       " 'trying',\n",
       " '.',\n",
       " 'it',\n",
       " '<',\n",
       " 'html',\n",
       " '>',\n",
       " '<',\n",
       " 'h1',\n",
       " '>',\n",
       " 'hello',\n",
       " 'its',\n",
       " 'me',\n",
       " ',',\n",
       " 'and',\n",
       " 'i',\n",
       " 'am',\n",
       " 'an',\n",
       " 'intern',\n",
       " 'at',\n",
       " 'thathascience',\n",
       " '<',\n",
       " '/h1',\n",
       " '>',\n",
       " '<',\n",
       " '/html',\n",
       " '>',\n",
       " '😀',\n",
       " '😃',\n",
       " '😄',\n",
       " '😁',\n",
       " '😆',\n",
       " '😅',\n",
       " '😂',\n",
       " '🤣']"
      ]
     },
     "execution_count": 8,
     "metadata": {},
     "output_type": "execute_result"
    }
   ],
   "source": [
    "token_list2"
   ]
  },
  {
   "cell_type": "code",
   "execution_count": 9,
   "metadata": {},
   "outputs": [
    {
     "name": "stdout",
     "output_type": "stream",
     "text": [
      "Total tokens :  56\n"
     ]
    }
   ],
   "source": [
    "print(\"Total tokens : \", len(token_list2))"
   ]
  },
  {
   "cell_type": "markdown",
   "metadata": {},
   "source": [
    "# step-3 Remove punctuation"
   ]
  },
  {
   "cell_type": "code",
   "execution_count": 10,
   "metadata": {},
   "outputs": [
    {
     "name": "stdout",
     "output_type": "stream",
     "text": [
      "['lets', 'do', 'tokenization', 'developing', 'keeping', 'lets', 'atleast', 'try', 'you', 'wan', 'na', 'try', 'please', 'keep', 'trying', 'it', 'html', 'h1', 'hello', 'its'] \n",
      "\n",
      "Total tokens :  30\n"
     ]
    }
   ],
   "source": [
    "from nltk.tokenize import punkt\n",
    "token_list3 = list(filter(lambda token : punkt.PunktToken(token).is_non_punct,token_list2))\n",
    "print(token_list3[0:20],\"\\n\")\n",
    "print(\"Total tokens : \", len(token_list3))"
   ]
  },
  {
   "cell_type": "markdown",
   "metadata": {},
   "source": [
    "##another method by me "
   ]
  },
  {
   "cell_type": "code",
   "execution_count": 11,
   "metadata": {},
   "outputs": [],
   "source": [
    "punctuations = '''!()-[]{};:'\"\\,<>./?@#$%^&*_~'''\n",
    "token_list3=[]\n",
    "for t in token_list2:\n",
    "    if t not in punctuations:\n",
    "        token_list3.append(t)"
   ]
  },
  {
   "cell_type": "code",
   "execution_count": 12,
   "metadata": {},
   "outputs": [
    {
     "data": {
      "text/plain": [
       "['lets',\n",
       " 'do',\n",
       " 'tokenization',\n",
       " 'developing',\n",
       " 'keeping',\n",
       " 'lets',\n",
       " 'atleast',\n",
       " 'try',\n",
       " '...',\n",
       " 'you',\n",
       " 'wan',\n",
       " 'na',\n",
       " 'try',\n",
       " '..',\n",
       " 'please',\n",
       " 'keep',\n",
       " 'trying',\n",
       " 'it',\n",
       " 'html',\n",
       " 'h1',\n",
       " 'hello',\n",
       " 'its',\n",
       " 'me',\n",
       " 'and',\n",
       " 'i',\n",
       " 'am',\n",
       " 'an',\n",
       " 'intern',\n",
       " 'at',\n",
       " 'thathascience',\n",
       " '/h1',\n",
       " '/html',\n",
       " '😀',\n",
       " '😃',\n",
       " '😄',\n",
       " '😁',\n",
       " '😆',\n",
       " '😅',\n",
       " '😂',\n",
       " '🤣']"
      ]
     },
     "execution_count": 12,
     "metadata": {},
     "output_type": "execute_result"
    }
   ],
   "source": [
    "token_list3"
   ]
  },
  {
   "cell_type": "code",
   "execution_count": 13,
   "metadata": {},
   "outputs": [
    {
     "name": "stdout",
     "output_type": "stream",
     "text": [
      "Total tokens :  40\n"
     ]
    }
   ],
   "source": [
    "print(\"Total tokens : \", len(token_list3))"
   ]
  },
  {
   "cell_type": "markdown",
   "metadata": {},
   "source": [
    "# step-4 Removing StopWords"
   ]
  },
  {
   "cell_type": "markdown",
   "metadata": {},
   "source": [
    "\n",
    "Stop words does not contribute to the text analysis as they don’t have any meaning. Example of the stop words are like in, the, and which e.t.c. It’s better that you should remove from them. Nltk has already the list of the stop words you can use them to compare your tokenize words. You can download the stop words using nltk.download(“stopwords”)"
   ]
  },
  {
   "cell_type": "code",
   "execution_count": 14,
   "metadata": {},
   "outputs": [],
   "source": [
    "from nltk.corpus import stopwords"
   ]
  },
  {
   "cell_type": "code",
   "execution_count": 15,
   "metadata": {},
   "outputs": [
    {
     "name": "stderr",
     "output_type": "stream",
     "text": [
      "[nltk_data] Downloading package stopwords to\n",
      "[nltk_data]     C:\\Users\\sam\\AppData\\Roaming\\nltk_data...\n",
      "[nltk_data]   Package stopwords is already up-to-date!\n"
     ]
    },
    {
     "data": {
      "text/plain": [
       "True"
      ]
     },
     "execution_count": 15,
     "metadata": {},
     "output_type": "execute_result"
    }
   ],
   "source": [
    "nltk.download(\"stopwords\")"
   ]
  },
  {
   "cell_type": "code",
   "execution_count": 16,
   "metadata": {},
   "outputs": [
    {
     "data": {
      "text/plain": [
       "<WordListCorpusReader in 'C:\\\\Users\\\\sam\\\\AppData\\\\Roaming\\\\nltk_data\\\\corpora\\\\stopwords'>"
      ]
     },
     "execution_count": 16,
     "metadata": {},
     "output_type": "execute_result"
    }
   ],
   "source": [
    "stopwords"
   ]
  },
  {
   "cell_type": "code",
   "execution_count": 17,
   "metadata": {},
   "outputs": [],
   "source": [
    "token_list4=[]\n",
    "for s in token_list3:\n",
    "    if s not in stopwords.words(\"english\"):\n",
    "        token_list4.append(s)\n",
    "        "
   ]
  },
  {
   "cell_type": "code",
   "execution_count": 18,
   "metadata": {},
   "outputs": [
    {
     "data": {
      "text/plain": [
       "['lets',\n",
       " 'tokenization',\n",
       " 'developing',\n",
       " 'keeping',\n",
       " 'lets',\n",
       " 'atleast',\n",
       " 'try',\n",
       " '...',\n",
       " 'wan',\n",
       " 'na',\n",
       " 'try',\n",
       " '..',\n",
       " 'please',\n",
       " 'keep',\n",
       " 'trying',\n",
       " 'html',\n",
       " 'h1',\n",
       " 'hello',\n",
       " 'intern',\n",
       " 'thathascience',\n",
       " '/h1',\n",
       " '/html',\n",
       " '😀',\n",
       " '😃',\n",
       " '😄',\n",
       " '😁',\n",
       " '😆',\n",
       " '😅',\n",
       " '😂',\n",
       " '🤣']"
      ]
     },
     "execution_count": 18,
     "metadata": {},
     "output_type": "execute_result"
    }
   ],
   "source": [
    "token_list4"
   ]
  },
  {
   "cell_type": "code",
   "execution_count": 19,
   "metadata": {},
   "outputs": [
    {
     "data": {
      "text/plain": [
       "30"
      ]
     },
     "execution_count": 19,
     "metadata": {},
     "output_type": "execute_result"
    }
   ],
   "source": [
    "len(token_list4)"
   ]
  },
  {
   "cell_type": "markdown",
   "metadata": {},
   "source": [
    "lets see what are stop words"
   ]
  },
  {
   "cell_type": "code",
   "execution_count": 20,
   "metadata": {},
   "outputs": [],
   "source": [
    "stopw=stopwords.words(\"english\")"
   ]
  },
  {
   "cell_type": "code",
   "execution_count": 21,
   "metadata": {},
   "outputs": [
    {
     "data": {
      "text/plain": [
       "['i',\n",
       " 'me',\n",
       " 'my',\n",
       " 'myself',\n",
       " 'we',\n",
       " 'our',\n",
       " 'ours',\n",
       " 'ourselves',\n",
       " 'you',\n",
       " \"you're\",\n",
       " \"you've\",\n",
       " \"you'll\",\n",
       " \"you'd\",\n",
       " 'your',\n",
       " 'yours',\n",
       " 'yourself',\n",
       " 'yourselves',\n",
       " 'he',\n",
       " 'him',\n",
       " 'his',\n",
       " 'himself',\n",
       " 'she',\n",
       " \"she's\",\n",
       " 'her',\n",
       " 'hers',\n",
       " 'herself',\n",
       " 'it',\n",
       " \"it's\",\n",
       " 'its',\n",
       " 'itself',\n",
       " 'they',\n",
       " 'them',\n",
       " 'their',\n",
       " 'theirs',\n",
       " 'themselves',\n",
       " 'what',\n",
       " 'which',\n",
       " 'who',\n",
       " 'whom',\n",
       " 'this',\n",
       " 'that',\n",
       " \"that'll\",\n",
       " 'these',\n",
       " 'those',\n",
       " 'am',\n",
       " 'is',\n",
       " 'are',\n",
       " 'was',\n",
       " 'were',\n",
       " 'be',\n",
       " 'been',\n",
       " 'being',\n",
       " 'have',\n",
       " 'has',\n",
       " 'had',\n",
       " 'having',\n",
       " 'do',\n",
       " 'does',\n",
       " 'did',\n",
       " 'doing',\n",
       " 'a',\n",
       " 'an',\n",
       " 'the',\n",
       " 'and',\n",
       " 'but',\n",
       " 'if',\n",
       " 'or',\n",
       " 'because',\n",
       " 'as',\n",
       " 'until',\n",
       " 'while',\n",
       " 'of',\n",
       " 'at',\n",
       " 'by',\n",
       " 'for',\n",
       " 'with',\n",
       " 'about',\n",
       " 'against',\n",
       " 'between',\n",
       " 'into',\n",
       " 'through',\n",
       " 'during',\n",
       " 'before',\n",
       " 'after',\n",
       " 'above',\n",
       " 'below',\n",
       " 'to',\n",
       " 'from',\n",
       " 'up',\n",
       " 'down',\n",
       " 'in',\n",
       " 'out',\n",
       " 'on',\n",
       " 'off',\n",
       " 'over',\n",
       " 'under',\n",
       " 'again',\n",
       " 'further',\n",
       " 'then',\n",
       " 'once',\n",
       " 'here',\n",
       " 'there',\n",
       " 'when',\n",
       " 'where',\n",
       " 'why',\n",
       " 'how',\n",
       " 'all',\n",
       " 'any',\n",
       " 'both',\n",
       " 'each',\n",
       " 'few',\n",
       " 'more',\n",
       " 'most',\n",
       " 'other',\n",
       " 'some',\n",
       " 'such',\n",
       " 'no',\n",
       " 'nor',\n",
       " 'not',\n",
       " 'only',\n",
       " 'own',\n",
       " 'same',\n",
       " 'so',\n",
       " 'than',\n",
       " 'too',\n",
       " 'very',\n",
       " 's',\n",
       " 't',\n",
       " 'can',\n",
       " 'will',\n",
       " 'just',\n",
       " 'don',\n",
       " \"don't\",\n",
       " 'should',\n",
       " \"should've\",\n",
       " 'now',\n",
       " 'd',\n",
       " 'll',\n",
       " 'm',\n",
       " 'o',\n",
       " 're',\n",
       " 've',\n",
       " 'y',\n",
       " 'ain',\n",
       " 'aren',\n",
       " \"aren't\",\n",
       " 'couldn',\n",
       " \"couldn't\",\n",
       " 'didn',\n",
       " \"didn't\",\n",
       " 'doesn',\n",
       " \"doesn't\",\n",
       " 'hadn',\n",
       " \"hadn't\",\n",
       " 'hasn',\n",
       " \"hasn't\",\n",
       " 'haven',\n",
       " \"haven't\",\n",
       " 'isn',\n",
       " \"isn't\",\n",
       " 'ma',\n",
       " 'mightn',\n",
       " \"mightn't\",\n",
       " 'mustn',\n",
       " \"mustn't\",\n",
       " 'needn',\n",
       " \"needn't\",\n",
       " 'shan',\n",
       " \"shan't\",\n",
       " 'shouldn',\n",
       " \"shouldn't\",\n",
       " 'wasn',\n",
       " \"wasn't\",\n",
       " 'weren',\n",
       " \"weren't\",\n",
       " 'won',\n",
       " \"won't\",\n",
       " 'wouldn',\n",
       " \"wouldn't\"]"
      ]
     },
     "execution_count": 21,
     "metadata": {},
     "output_type": "execute_result"
    }
   ],
   "source": [
    "stopw # these are stop words"
   ]
  },
  {
   "cell_type": "markdown",
   "metadata": {},
   "source": [
    "# step-5 Lemmatization"
   ]
  },
  {
   "cell_type": "markdown",
   "metadata": {},
   "source": [
    "Lemmatization of the words\n",
    "It is an important step in the text preprocessing. It produces the root word that is generated from it. For example developed, developing have the root words that is “develop”. It is the lemmatized version of the word developed and developing. Lemmatization uses the dictionary to match each word with the root words.\n",
    "\n",
    "For the lemmatization, you have to first download the wordnet from the nltk using nltk.download(“wordnet”). After that, you will use the WordNetLemmatizer() for lemmatizing the tokenized list."
   ]
  },
  {
   "cell_type": "code",
   "execution_count": 22,
   "metadata": {},
   "outputs": [
    {
     "name": "stderr",
     "output_type": "stream",
     "text": [
      "[nltk_data] Downloading package wordnet to\n",
      "[nltk_data]     C:\\Users\\sam\\AppData\\Roaming\\nltk_data...\n",
      "[nltk_data]   Package wordnet is already up-to-date!\n"
     ]
    },
    {
     "data": {
      "text/plain": [
       "True"
      ]
     },
     "execution_count": 22,
     "metadata": {},
     "output_type": "execute_result"
    }
   ],
   "source": [
    "nltk.download('wordnet')"
   ]
  },
  {
   "cell_type": "markdown",
   "metadata": {},
   "source": [
    "may be lemmatization removes last . (dots) or something in last"
   ]
  },
  {
   "cell_type": "code",
   "execution_count": 23,
   "metadata": {},
   "outputs": [
    {
     "name": "stdout",
     "output_type": "stream",
     "text": [
      "['let', 'tokenization', 'developing', 'keeping', 'let', 'atleast', 'try', '...', 'wan', 'na', 'try', '..', 'please', 'keep', 'trying', 'html', 'h1', 'hello', 'intern', 'thathascience'] \n",
      "\n",
      "Total tokens :  30\n"
     ]
    }
   ],
   "source": [
    "from nltk.stem import WordNetLemmatizer\n",
    "lemmatizer = WordNetLemmatizer()\n",
    "token_list5 = [lemmatizer.lemmatize(word) for word in token_list4]\n",
    "print(token_list5[0:20],\"\\n\")\n",
    "print(\"Total tokens : \", len(token_list5))"
   ]
  },
  {
   "cell_type": "code",
   "execution_count": 24,
   "metadata": {},
   "outputs": [],
   "source": [
    "#for n in token_list4:\n",
    " #   if n not in lemmatizer.lemmatize(word):\n",
    "  #      token_list5.append(n)"
   ]
  },
  {
   "cell_type": "markdown",
   "metadata": {},
   "source": [
    "# STEP-6 Stemming"
   ]
  },
  {
   "cell_type": "markdown",
   "metadata": {},
   "source": [
    "Both tools shorten words back to their root form. Stemming is a little more aggressive. It cuts off prefixes and/or endings of words based on common ones. It can sometimes be helpful, but not always because often times the new word is so much a root that it loses its actual meaning. Lemmatizing, on the other hand, maps common words into one base. Unlike stemming though, it always still returns a proper word that can be found in the dictionary. I like to compare the two to see which one works better for what I need. I usually prefer Lemmatizer, but surprisingly, this time, Stemming seemed to have more of an affect."
   ]
  },
  {
   "cell_type": "code",
   "execution_count": 25,
   "metadata": {},
   "outputs": [],
   "source": [
    "from nltk.stem.porter import PorterStemmer"
   ]
  },
  {
   "cell_type": "code",
   "execution_count": 26,
   "metadata": {},
   "outputs": [],
   "source": [
    "stemmer = PorterStemmer()"
   ]
  },
  {
   "cell_type": "code",
   "execution_count": 27,
   "metadata": {},
   "outputs": [],
   "source": [
    "token_list6=[]\n",
    "for word in token_list5:\n",
    "    stem_word = stemmer.stem(word) \n",
    "    token_list6.append(stem_word)"
   ]
  },
  {
   "cell_type": "markdown",
   "metadata": {},
   "source": [
    "see stemming deleted last alphabet of words"
   ]
  },
  {
   "cell_type": "code",
   "execution_count": 28,
   "metadata": {},
   "outputs": [
    {
     "data": {
      "text/plain": [
       "['let',\n",
       " 'token',\n",
       " 'develop',\n",
       " 'keep',\n",
       " 'let',\n",
       " 'atleast',\n",
       " 'tri',\n",
       " '...',\n",
       " 'wan',\n",
       " 'na',\n",
       " 'tri',\n",
       " '..',\n",
       " 'pleas',\n",
       " 'keep',\n",
       " 'tri',\n",
       " 'html',\n",
       " 'h1',\n",
       " 'hello',\n",
       " 'intern',\n",
       " 'thathasci',\n",
       " '/h1',\n",
       " '/html',\n",
       " '😀',\n",
       " '😃',\n",
       " '😄',\n",
       " '😁',\n",
       " '😆',\n",
       " '😅',\n",
       " '😂',\n",
       " '🤣']"
      ]
     },
     "execution_count": 28,
     "metadata": {},
     "output_type": "execute_result"
    }
   ],
   "source": [
    "token_list6"
   ]
  },
  {
   "cell_type": "markdown",
   "metadata": {},
   "source": [
    "there are another streps also like removing emoji's and removing html"
   ]
  },
  {
   "cell_type": "markdown",
   "metadata": {},
   "source": [
    "##now lets join it again into string than we will further clean it "
   ]
  },
  {
   "cell_type": "code",
   "execution_count": 29,
   "metadata": {},
   "outputs": [],
   "source": [
    "joined_list7=\" \".join(token_list6)"
   ]
  },
  {
   "cell_type": "code",
   "execution_count": 30,
   "metadata": {},
   "outputs": [
    {
     "data": {
      "text/plain": [
       "'let token develop keep let atleast tri ... wan na tri .. pleas keep tri html h1 hello intern thathasci /h1 /html 😀 😃 😄 😁 😆 😅 😂 🤣'"
      ]
     },
     "execution_count": 30,
     "metadata": {},
     "output_type": "execute_result"
    }
   ],
   "source": [
    "joined_list7"
   ]
  },
  {
   "cell_type": "markdown",
   "metadata": {},
   "source": [
    "# step-7 removing html"
   ]
  },
  {
   "cell_type": "code",
   "execution_count": 31,
   "metadata": {},
   "outputs": [],
   "source": [
    "#pip install bs4 ----- for installing BeautifulSoup "
   ]
  },
  {
   "cell_type": "code",
   "execution_count": 32,
   "metadata": {},
   "outputs": [],
   "source": [
    "from bs4 import BeautifulSoup"
   ]
  },
  {
   "cell_type": "code",
   "execution_count": 33,
   "metadata": {},
   "outputs": [],
   "source": [
    "html_text=\"<html> <h1> this is heading </h1> </html>    😀 😃 😄 😁 😆 😅 😂 🤣 \""
   ]
  },
  {
   "cell_type": "code",
   "execution_count": 34,
   "metadata": {},
   "outputs": [],
   "source": [
    "sou=BeautifulSoup(html_text,\"lxml\")"
   ]
  },
  {
   "cell_type": "code",
   "execution_count": 35,
   "metadata": {},
   "outputs": [],
   "source": [
    "html_free=sou.get_text()"
   ]
  },
  {
   "cell_type": "markdown",
   "metadata": {},
   "source": [
    "now you can see text without html"
   ]
  },
  {
   "cell_type": "code",
   "execution_count": 36,
   "metadata": {},
   "outputs": [
    {
     "data": {
      "text/plain": [
       "'  this is heading      😀 😃 😄 😁 😆 😅 😂 🤣 '"
      ]
     },
     "execution_count": 36,
     "metadata": {},
     "output_type": "execute_result"
    }
   ],
   "source": [
    "html_free"
   ]
  },
  {
   "cell_type": "markdown",
   "metadata": {},
   "source": [
    "# remove emoji"
   ]
  },
  {
   "cell_type": "markdown",
   "metadata": {},
   "source": [
    "we imported re that is Regular Expresisons"
   ]
  },
  {
   "cell_type": "code",
   "execution_count": 37,
   "metadata": {},
   "outputs": [],
   "source": [
    "import re"
   ]
  },
  {
   "cell_type": "markdown",
   "metadata": {},
   "source": [
    "we made remove emoji funtions"
   ]
  },
  {
   "cell_type": "code",
   "execution_count": 38,
   "metadata": {},
   "outputs": [],
   "source": [
    "def remove_emoji(string):\n",
    "    emoji_pattern = re.compile(\"[\"\n",
    "                               u\"\\U0001F600-\\U0001F64F\"  # emoticons\n",
    "                               u\"\\U0001F300-\\U0001F5FF\"  # symbols & pictographs\n",
    "                               u\"\\U0001F680-\\U0001F6FF\"  # transport & map symbols\n",
    "                               u\"\\U0001F1E0-\\U0001F1FF\"  # flags (iOS)\n",
    "                               u\"\\U00002500-\\U00002BEF\"  # chinese char\n",
    "                               u\"\\U00002702-\\U000027B0\"\n",
    "                               u\"\\U00002702-\\U000027B0\"\n",
    "                               u\"\\U000024C2-\\U0001F251\"\n",
    "                               u\"\\U0001f926-\\U0001f937\"\n",
    "                               u\"\\U00010000-\\U0010ffff\"\n",
    "                               u\"\\u2640-\\u2642\"\n",
    "                               u\"\\u2600-\\u2B55\"\n",
    "                               u\"\\u200d\"\n",
    "                               u\"\\u23cf\"\n",
    "                               u\"\\u23e9\"\n",
    "                               u\"\\u231a\"\n",
    "                               u\"\\ufe0f\"  # dingbats\n",
    "                               u\"\\u3030\"\n",
    "                               \"]+\", flags=re.UNICODE)\n",
    "    return emoji_pattern.sub(r'', string)"
   ]
  },
  {
   "cell_type": "code",
   "execution_count": 39,
   "metadata": {},
   "outputs": [],
   "source": [
    "removed_emoji=remove_emoji(html_free)"
   ]
  },
  {
   "cell_type": "markdown",
   "metadata": {},
   "source": [
    "now the text will come without emoji's"
   ]
  },
  {
   "cell_type": "code",
   "execution_count": 40,
   "metadata": {},
   "outputs": [
    {
     "data": {
      "text/plain": [
       "'  this is heading              '"
      ]
     },
     "execution_count": 40,
     "metadata": {},
     "output_type": "execute_result"
    }
   ],
   "source": [
    "removed_emoji"
   ]
  }
 ],
 "metadata": {
  "kernelspec": {
   "display_name": "Python 3",
   "language": "python",
   "name": "python3"
  },
  "language_info": {
   "codemirror_mode": {
    "name": "ipython",
    "version": 3
   },
   "file_extension": ".py",
   "mimetype": "text/x-python",
   "name": "python",
   "nbconvert_exporter": "python",
   "pygments_lexer": "ipython3",
   "version": "3.8.5"
  }
 },
 "nbformat": 4,
 "nbformat_minor": 4
}
